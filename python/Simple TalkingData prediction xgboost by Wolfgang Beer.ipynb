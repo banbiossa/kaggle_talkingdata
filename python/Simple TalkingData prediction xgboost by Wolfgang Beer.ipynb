{
 "cells": [
  {
   "cell_type": "markdown",
   "metadata": {},
   "source": [
    "# What to do"
   ]
  },
  {
   "cell_type": "markdown",
   "metadata": {},
   "source": [
    "- make the kernel from https://www.kaggle.com/wolfgangb33r/simple-talkingdata-prediction-xgboost/code"
   ]
  },
  {
   "cell_type": "markdown",
   "metadata": {},
   "source": [
    "# Setup"
   ]
  },
  {
   "cell_type": "markdown",
   "metadata": {},
   "source": [
    "## Libraries"
   ]
  },
  {
   "cell_type": "code",
   "execution_count": 1,
   "metadata": {
    "ExecuteTime": {
     "end_time": "2018-04-24T06:02:21.677200Z",
     "start_time": "2018-04-24T06:02:20.758460Z"
    }
   },
   "outputs": [
    {
     "name": "stdout",
     "output_type": "stream",
     "text": [
      "/home/ec2-user/kaggle/kaggle_talkingdata\t<<<<<< get to project\n"
     ]
    }
   ],
   "source": [
    "import pandas as pd\n",
    "import git\n",
    "from pandas import DataFrame, Series\n",
    "from pandas.api.types import CategoricalDtype\n",
    "\n",
    "import os\n",
    "import sys\n",
    "repo = git.Repo('.', search_parent_directories=True)\n",
    "module_path = repo.working_tree_dir\n",
    "print(module_path + \"\\t<<<<<< get to project\")\n",
    "if module_path not in sys.path:\n",
    "    sys.path.append(module_path)\n",
    "    \n",
    "import numpy as np\n",
    "import datetime as dt\n",
    "from datetime import date\n",
    "from boto.s3.connection import S3Connection\n",
    "import tarfile\n",
    "\n",
    "import seaborn as sns\n",
    "import matplotlib.pyplot as plt\n",
    "%matplotlib inline\n",
    "\n",
    "from mlxtend.frequent_patterns import apriori\n",
    "from mlxtend.frequent_patterns import association_rules\n"
   ]
  },
  {
   "cell_type": "code",
   "execution_count": 2,
   "metadata": {
    "ExecuteTime": {
     "end_time": "2018-04-24T06:02:22.805798Z",
     "start_time": "2018-04-24T06:02:22.680878Z"
    }
   },
   "outputs": [],
   "source": [
    "#Importing the required libraries\n",
    "import zipfile\n",
    "import subprocess\n",
    "import psutil\n",
    "import base64\n",
    "import zlib\n",
    "import glob\n",
    "import dask.dataframe as dd\n",
    "from dask.delayed import delayed\n",
    "import dask.bag as db\n",
    "import calendar\n",
    "import glob\n",
    "import time\n",
    "from sys import getsizeof\n",
    "from boto.s3 import key\n",
    "from datetime import datetime,timedelta\n",
    "from boto.s3.key import Key"
   ]
  },
  {
   "cell_type": "code",
   "execution_count": 4,
   "metadata": {
    "ExecuteTime": {
     "end_time": "2018-04-24T05:33:07.654265Z",
     "start_time": "2018-04-24T05:33:07.526889Z"
    }
   },
   "outputs": [],
   "source": [
    "import numpy as np\n",
    "import pandas as pd\n",
    "import math\n",
    "import time\n",
    "import os.path\n",
    "\n",
    "import xgboost as xgb"
   ]
  },
  {
   "cell_type": "markdown",
   "metadata": {},
   "source": [
    "## Other notebooks"
   ]
  },
  {
   "cell_type": "code",
   "execution_count": 7,
   "metadata": {
    "ExecuteTime": {
     "end_time": "2018-04-24T05:36:16.898019Z",
     "start_time": "2018-04-24T05:36:16.727473Z"
    }
   },
   "outputs": [],
   "source": [
    "import user_defined_functions.notebookutil as nbu\n",
    "sys.meta_path.append(nbu.NotebookFinder())"
   ]
  },
  {
   "cell_type": "code",
   "execution_count": 8,
   "metadata": {
    "ExecuteTime": {
     "end_time": "2018-04-24T05:36:17.609939Z",
     "start_time": "2018-04-24T05:36:17.420074Z"
    }
   },
   "outputs": [],
   "source": [
    "import user_defined_functions.helper_functions as hp"
   ]
  },
  {
   "cell_type": "markdown",
   "metadata": {},
   "source": [
    "## AWS"
   ]
  },
  {
   "cell_type": "code",
   "execution_count": 27,
   "metadata": {
    "ExecuteTime": {
     "end_time": "2018-04-24T05:50:29.759715Z",
     "start_time": "2018-04-24T05:50:29.755962Z"
    }
   },
   "outputs": [],
   "source": [
    "aws_connection = S3Connection(os.environ[\"AWS_ACCESS_KEY_ID\"], os.environ[\"AWS_SECRET_ACCESS_KEY\"])\n",
    "#bucket = aws_connection.get_bucket('sshimizu-tokyo')"
   ]
  },
  {
   "cell_type": "code",
   "execution_count": 28,
   "metadata": {
    "ExecuteTime": {
     "end_time": "2018-04-24T05:50:30.655777Z",
     "start_time": "2018-04-24T05:50:30.584102Z"
    }
   },
   "outputs": [],
   "source": [
    "bucket = aws_connection.get_bucket('awsant-lalaport-data')"
   ]
  },
  {
   "cell_type": "markdown",
   "metadata": {},
   "source": [
    "## Parameters"
   ]
  },
  {
   "cell_type": "code",
   "execution_count": 29,
   "metadata": {
    "ExecuteTime": {
     "end_time": "2018-04-24T05:50:54.515523Z",
     "start_time": "2018-04-24T05:50:54.512919Z"
    }
   },
   "outputs": [],
   "source": [
    "main_dir = \"s3://awsant-lalaport-data/temp/kaggle/kaggle_talkingdata/\""
   ]
  },
  {
   "cell_type": "code",
   "execution_count": 30,
   "metadata": {
    "ExecuteTime": {
     "end_time": "2018-04-24T05:50:55.569643Z",
     "start_time": "2018-04-24T05:50:55.567057Z"
    }
   },
   "outputs": [],
   "source": [
    "input_file = main_dir + \"data/train.csv.gz\""
   ]
  },
  {
   "cell_type": "code",
   "execution_count": 31,
   "metadata": {
    "ExecuteTime": {
     "end_time": "2018-04-24T05:50:55.943019Z",
     "start_time": "2018-04-24T05:50:55.940465Z"
    }
   },
   "outputs": [],
   "source": [
    "test_file = main_dir + \"data/test.csv\""
   ]
  },
  {
   "cell_type": "code",
   "execution_count": null,
   "metadata": {
    "ExecuteTime": {
     "start_time": "2018-04-24T05:58:18.295Z"
    }
   },
   "outputs": [],
   "source": [
    "sample_submission_file = main_dir + \"data/sample_submission.csv\""
   ]
  },
  {
   "cell_type": "code",
   "execution_count": 32,
   "metadata": {
    "ExecuteTime": {
     "end_time": "2018-04-24T05:50:56.263511Z",
     "start_time": "2018-04-24T05:50:56.260992Z"
    }
   },
   "outputs": [],
   "source": [
    "output_file = module_path + '/submit/xgb_wolfgangbeer_v1.csv'"
   ]
  },
  {
   "cell_type": "markdown",
   "metadata": {},
   "source": [
    "# Main Code"
   ]
  },
  {
   "cell_type": "code",
   "execution_count": 33,
   "metadata": {
    "ExecuteTime": {
     "end_time": "2018-04-24T05:50:57.362921Z",
     "start_time": "2018-04-24T05:50:57.360045Z"
    }
   },
   "outputs": [],
   "source": [
    "start_time = time.time()\n",
    "# create a xgboost model\n",
    "model = xgb.XGBClassifier(max_depth=3, n_estimators=600, learning_rate=0.05)"
   ]
  },
  {
   "cell_type": "markdown",
   "metadata": {},
   "source": [
    "## Test Read"
   ]
  },
  {
   "cell_type": "code",
   "execution_count": 34,
   "metadata": {
    "ExecuteTime": {
     "end_time": "2018-04-24T05:50:58.923307Z",
     "start_time": "2018-04-24T05:50:58.345914Z"
    }
   },
   "outputs": [],
   "source": [
    "df = pd.read_csv(input_file, nrows = 100)"
   ]
  },
  {
   "cell_type": "code",
   "execution_count": 35,
   "metadata": {
    "ExecuteTime": {
     "end_time": "2018-04-24T05:51:03.023395Z",
     "start_time": "2018-04-24T05:51:03.007103Z"
    }
   },
   "outputs": [
    {
     "data": {
      "text/html": [
       "<div>\n",
       "<style scoped>\n",
       "    .dataframe tbody tr th:only-of-type {\n",
       "        vertical-align: middle;\n",
       "    }\n",
       "\n",
       "    .dataframe tbody tr th {\n",
       "        vertical-align: top;\n",
       "    }\n",
       "\n",
       "    .dataframe thead th {\n",
       "        text-align: right;\n",
       "    }\n",
       "</style>\n",
       "<table border=\"1\" class=\"dataframe\">\n",
       "  <thead>\n",
       "    <tr style=\"text-align: right;\">\n",
       "      <th></th>\n",
       "      <th>ip</th>\n",
       "      <th>app</th>\n",
       "      <th>device</th>\n",
       "      <th>os</th>\n",
       "      <th>channel</th>\n",
       "      <th>click_time</th>\n",
       "      <th>attributed_time</th>\n",
       "      <th>is_attributed</th>\n",
       "    </tr>\n",
       "  </thead>\n",
       "  <tbody>\n",
       "    <tr>\n",
       "      <th>0</th>\n",
       "      <td>83230</td>\n",
       "      <td>3</td>\n",
       "      <td>1</td>\n",
       "      <td>13</td>\n",
       "      <td>379</td>\n",
       "      <td>2017-11-06 14:32:21</td>\n",
       "      <td>NaN</td>\n",
       "      <td>0</td>\n",
       "    </tr>\n",
       "    <tr>\n",
       "      <th>1</th>\n",
       "      <td>17357</td>\n",
       "      <td>3</td>\n",
       "      <td>1</td>\n",
       "      <td>19</td>\n",
       "      <td>379</td>\n",
       "      <td>2017-11-06 14:33:34</td>\n",
       "      <td>NaN</td>\n",
       "      <td>0</td>\n",
       "    </tr>\n",
       "    <tr>\n",
       "      <th>2</th>\n",
       "      <td>35810</td>\n",
       "      <td>3</td>\n",
       "      <td>1</td>\n",
       "      <td>13</td>\n",
       "      <td>379</td>\n",
       "      <td>2017-11-06 14:34:12</td>\n",
       "      <td>NaN</td>\n",
       "      <td>0</td>\n",
       "    </tr>\n",
       "    <tr>\n",
       "      <th>3</th>\n",
       "      <td>45745</td>\n",
       "      <td>14</td>\n",
       "      <td>1</td>\n",
       "      <td>13</td>\n",
       "      <td>478</td>\n",
       "      <td>2017-11-06 14:34:52</td>\n",
       "      <td>NaN</td>\n",
       "      <td>0</td>\n",
       "    </tr>\n",
       "    <tr>\n",
       "      <th>4</th>\n",
       "      <td>161007</td>\n",
       "      <td>3</td>\n",
       "      <td>1</td>\n",
       "      <td>13</td>\n",
       "      <td>379</td>\n",
       "      <td>2017-11-06 14:35:08</td>\n",
       "      <td>NaN</td>\n",
       "      <td>0</td>\n",
       "    </tr>\n",
       "  </tbody>\n",
       "</table>\n",
       "</div>"
      ],
      "text/plain": [
       "       ip  app  device  os  channel           click_time  attributed_time  \\\n",
       "0   83230    3       1  13      379  2017-11-06 14:32:21              NaN   \n",
       "1   17357    3       1  19      379  2017-11-06 14:33:34              NaN   \n",
       "2   35810    3       1  13      379  2017-11-06 14:34:12              NaN   \n",
       "3   45745   14       1  13      478  2017-11-06 14:34:52              NaN   \n",
       "4  161007    3       1  13      379  2017-11-06 14:35:08              NaN   \n",
       "\n",
       "   is_attributed  \n",
       "0              0  \n",
       "1              0  \n",
       "2              0  \n",
       "3              0  \n",
       "4              0  "
      ]
     },
     "execution_count": 35,
     "metadata": {},
     "output_type": "execute_result"
    }
   ],
   "source": [
    "df.head()"
   ]
  },
  {
   "cell_type": "markdown",
   "metadata": {},
   "source": [
    "## Read"
   ]
  },
  {
   "cell_type": "markdown",
   "metadata": {},
   "source": [
    "### Training data"
   ]
  },
  {
   "cell_type": "code",
   "execution_count": 38,
   "metadata": {
    "ExecuteTime": {
     "end_time": "2018-04-24T05:56:48.005702Z",
     "start_time": "2018-04-24T05:56:41.844046Z"
    }
   },
   "outputs": [
    {
     "name": "stdout",
     "output_type": "stream",
     "text": [
      "Processed chunk 0\n"
     ]
    }
   ],
   "source": [
    "# already prepared for chunked learning in case that full training data\n",
    "# set does not fit into memory\n",
    "# fit the model\n",
    "chunksize = 400000\n",
    "chunk_idx = 0 \n",
    "chunk_max = 10\n",
    "for chunk in pd.read_csv(input_file, chunksize=chunksize):\n",
    "    # Extracting new features\n",
    "    chunk['hour'] = pd.to_datetime(chunk.click_time).dt.hour.astype('uint8')\n",
    "    chunk['day'] = pd.to_datetime(chunk.click_time).dt.day.astype('uint8')\n",
    "    train_X = chunk.as_matrix(columns=['ip', 'app', 'device', 'os', 'channel', 'hour', 'day'])\n",
    "    if chunk_idx > 0: # not load in first run\n",
    "        model.fit(train_X, chunk['is_attributed'], xgb_model=model)\n",
    "    else:\n",
    "        model.fit(train_X, chunk['is_attributed'])\n",
    "    print(\"Processed chunk %d\" % chunk_idx)\n",
    "    chunk_idx = chunk_idx + 1\n",
    "    if chunk_idx >= chunk_max:\n",
    "        break"
   ]
  },
  {
   "cell_type": "markdown",
   "metadata": {},
   "source": [
    "### Testing data"
   ]
  },
  {
   "cell_type": "code",
   "execution_count": null,
   "metadata": {
    "ExecuteTime": {
     "start_time": "2018-04-24T05:58:06.403Z"
    }
   },
   "outputs": [],
   "source": [
    "# read test data set\n",
    "test = pd.read_csv(test_file)\n",
    "test['hour'] = pd.to_datetime(test.click_time).dt.hour.astype('uint8')\n",
    "test['day'] = pd.to_datetime(test.click_time).dt.day.astype('uint8')\n",
    "\n",
    "test_X = test.as_matrix(columns=['ip', 'app', 'device', 'os', 'channel', 'hour', 'day'])\n",
    "#start_time = print_duration (start_time, \"Finished training, start prediction\")   \n",
    "# predict the propabilities for binary classes    \n",
    "pred = model.predict_proba(test_X)"
   ]
  },
  {
   "cell_type": "markdown",
   "metadata": {},
   "source": [
    "### Submission"
   ]
  },
  {
   "cell_type": "code",
   "execution_count": null,
   "metadata": {},
   "outputs": [],
   "source": [
    "start_time = print_duration (start_time, \"Finished prediction, start store results\")    \n",
    "submission = pd.read_csv(sample_submission_file)\n",
    "submission['is_attributed'] = pred[:,1]\n",
    "submission.to_csv(output_file, index=False)\n",
    "start_time = print_duration(start_time, \"Finished to store result\")"
   ]
  }
 ],
 "metadata": {
  "kernelspec": {
   "display_name": "Python 3",
   "language": "python",
   "name": "python3"
  },
  "language_info": {
   "codemirror_mode": {
    "name": "ipython",
    "version": 3
   },
   "file_extension": ".py",
   "mimetype": "text/x-python",
   "name": "python",
   "nbconvert_exporter": "python",
   "pygments_lexer": "ipython3",
   "version": "3.6.5"
  },
  "toc": {
   "nav_menu": {},
   "number_sections": true,
   "sideBar": true,
   "skip_h1_title": false,
   "title_cell": "Table of Contents",
   "title_sidebar": "Contents",
   "toc_cell": false,
   "toc_position": {},
   "toc_section_display": true,
   "toc_window_display": true
  }
 },
 "nbformat": 4,
 "nbformat_minor": 2
}
