{
 "cells": [
  {
   "cell_type": "markdown",
   "metadata": {},
   "source": [
    "# What to do"
   ]
  },
  {
   "cell_type": "markdown",
   "metadata": {},
   "source": [
    "- make the kernel from https://www.kaggle.com/wolfgangb33r/simple-talkingdata-prediction-xgboost/code"
   ]
  },
  {
   "cell_type": "markdown",
   "metadata": {},
   "source": [
    "# Setup"
   ]
  },
  {
   "cell_type": "markdown",
   "metadata": {},
   "source": [
    "## Libraries"
   ]
  },
  {
   "cell_type": "code",
   "execution_count": 3,
   "metadata": {
    "ExecuteTime": {
     "end_time": "2018-04-24T06:02:45.747211Z",
     "start_time": "2018-04-24T06:02:45.738450Z"
    }
   },
   "outputs": [
    {
     "name": "stdout",
     "output_type": "stream",
     "text": [
      "/home/ec2-user/kaggle/kaggle_talkingdata\t<<<<<< get to project\n"
     ]
    }
   ],
   "source": [
    "import pandas as pd\n",
    "import git\n",
    "from pandas import DataFrame, Series\n",
    "from pandas.api.types import CategoricalDtype\n",
    "\n",
    "import os\n",
    "import sys\n",
    "repo = git.Repo('.', search_parent_directories=True)\n",
    "module_path = repo.working_tree_dir\n",
    "print(module_path + \"\\t<<<<<< get to project\")\n",
    "if module_path not in sys.path:\n",
    "    sys.path.append(module_path)\n",
    "    \n",
    "import numpy as np\n",
    "import datetime as dt\n",
    "from datetime import date\n",
    "from boto.s3.connection import S3Connection\n",
    "import tarfile\n",
    "\n",
    "import seaborn as sns\n",
    "import matplotlib.pyplot as plt\n",
    "%matplotlib inline\n",
    "\n",
    "from mlxtend.frequent_patterns import apriori\n",
    "from mlxtend.frequent_patterns import association_rules\n"
   ]
  },
  {
   "cell_type": "code",
   "execution_count": 4,
   "metadata": {
    "ExecuteTime": {
     "end_time": "2018-04-24T06:02:46.261822Z",
     "start_time": "2018-04-24T06:02:46.258049Z"
    }
   },
   "outputs": [],
   "source": [
    "#Importing the required libraries\n",
    "import zipfile\n",
    "import subprocess\n",
    "import psutil\n",
    "import base64\n",
    "import zlib\n",
    "import glob\n",
    "import dask.dataframe as dd\n",
    "from dask.delayed import delayed\n",
    "import dask.bag as db\n",
    "import calendar\n",
    "import glob\n",
    "import time\n",
    "from sys import getsizeof\n",
    "from boto.s3 import key\n",
    "from datetime import datetime,timedelta\n",
    "from boto.s3.key import Key"
   ]
  },
  {
   "cell_type": "code",
   "execution_count": 5,
   "metadata": {
    "ExecuteTime": {
     "end_time": "2018-04-24T06:02:46.865340Z",
     "start_time": "2018-04-24T06:02:46.826128Z"
    }
   },
   "outputs": [],
   "source": [
    "import numpy as np\n",
    "import pandas as pd\n",
    "import math\n",
    "import time\n",
    "import os.path\n",
    "\n",
    "import xgboost as xgb"
   ]
  },
  {
   "cell_type": "markdown",
   "metadata": {},
   "source": [
    "## Other notebooks"
   ]
  },
  {
   "cell_type": "code",
   "execution_count": 6,
   "metadata": {
    "ExecuteTime": {
     "end_time": "2018-04-24T06:02:47.667507Z",
     "start_time": "2018-04-24T06:02:47.489499Z"
    }
   },
   "outputs": [],
   "source": [
    "import user_defined_functions.notebookutil as nbu\n",
    "sys.meta_path.append(nbu.NotebookFinder())"
   ]
  },
  {
   "cell_type": "code",
   "execution_count": 7,
   "metadata": {
    "ExecuteTime": {
     "end_time": "2018-04-24T06:02:47.886312Z",
     "start_time": "2018-04-24T06:02:47.790391Z"
    }
   },
   "outputs": [],
   "source": [
    "import user_defined_functions.helper_functions as hp"
   ]
  },
  {
   "cell_type": "markdown",
   "metadata": {},
   "source": [
    "## AWS"
   ]
  },
  {
   "cell_type": "code",
   "execution_count": 8,
   "metadata": {
    "ExecuteTime": {
     "end_time": "2018-04-24T06:02:48.500918Z",
     "start_time": "2018-04-24T06:02:48.496947Z"
    }
   },
   "outputs": [],
   "source": [
    "aws_connection = S3Connection(os.environ[\"AWS_ACCESS_KEY_ID\"], os.environ[\"AWS_SECRET_ACCESS_KEY\"])\n",
    "#bucket = aws_connection.get_bucket('sshimizu-tokyo')"
   ]
  },
  {
   "cell_type": "code",
   "execution_count": 9,
   "metadata": {
    "ExecuteTime": {
     "end_time": "2018-04-24T06:02:48.957295Z",
     "start_time": "2018-04-24T06:02:48.784783Z"
    }
   },
   "outputs": [],
   "source": [
    "bucket = aws_connection.get_bucket('awsant-lalaport-data')"
   ]
  },
  {
   "cell_type": "markdown",
   "metadata": {},
   "source": [
    "## Parameters"
   ]
  },
  {
   "cell_type": "code",
   "execution_count": 10,
   "metadata": {
    "ExecuteTime": {
     "end_time": "2018-04-24T06:02:49.356059Z",
     "start_time": "2018-04-24T06:02:49.353463Z"
    }
   },
   "outputs": [],
   "source": [
    "main_dir = \"s3://awsant-lalaport-data/temp/kaggle/kaggle_talkingdata/\""
   ]
  },
  {
   "cell_type": "code",
   "execution_count": 11,
   "metadata": {
    "ExecuteTime": {
     "end_time": "2018-04-24T06:02:49.703958Z",
     "start_time": "2018-04-24T06:02:49.701396Z"
    }
   },
   "outputs": [],
   "source": [
    "input_file = main_dir + \"data/train.csv.gz\""
   ]
  },
  {
   "cell_type": "code",
   "execution_count": 12,
   "metadata": {
    "ExecuteTime": {
     "end_time": "2018-04-24T06:02:49.958698Z",
     "start_time": "2018-04-24T06:02:49.956210Z"
    }
   },
   "outputs": [],
   "source": [
    "test_file = main_dir + \"data/test.csv\""
   ]
  },
  {
   "cell_type": "code",
   "execution_count": 13,
   "metadata": {
    "ExecuteTime": {
     "end_time": "2018-04-24T06:02:50.222367Z",
     "start_time": "2018-04-24T06:02:50.219780Z"
    }
   },
   "outputs": [],
   "source": [
    "sample_submission_file = main_dir + \"data/sample_submission.csv\""
   ]
  },
  {
   "cell_type": "code",
   "execution_count": 14,
   "metadata": {
    "ExecuteTime": {
     "end_time": "2018-04-24T06:02:50.541748Z",
     "start_time": "2018-04-24T06:02:50.539220Z"
    }
   },
   "outputs": [],
   "source": [
    "output_file = module_path + '/submit/xgb_wolfgangbeer_v2.csv'"
   ]
  },
  {
   "cell_type": "markdown",
   "metadata": {},
   "source": [
    "- v1: test_model, 40,000 per chunk at 10 chunks\n",
    "- v2: bigger model, 400,000 per chunk at 10 chunks"
   ]
  },
  {
   "cell_type": "markdown",
   "metadata": {},
   "source": [
    "# Main Code"
   ]
  },
  {
   "cell_type": "code",
   "execution_count": 15,
   "metadata": {
    "ExecuteTime": {
     "end_time": "2018-04-24T06:02:51.269786Z",
     "start_time": "2018-04-24T06:02:51.266930Z"
    }
   },
   "outputs": [],
   "source": [
    "start_time = time.time()\n",
    "# create a xgboost model\n",
    "model = xgb.XGBClassifier(max_depth=3, n_estimators=600, learning_rate=0.05)"
   ]
  },
  {
   "cell_type": "markdown",
   "metadata": {},
   "source": [
    "## Test Read"
   ]
  },
  {
   "cell_type": "code",
   "execution_count": 16,
   "metadata": {
    "ExecuteTime": {
     "end_time": "2018-04-24T06:02:52.372400Z",
     "start_time": "2018-04-24T06:02:51.950237Z"
    }
   },
   "outputs": [],
   "source": [
    "df = pd.read_csv(input_file, nrows = 100)"
   ]
  },
  {
   "cell_type": "code",
   "execution_count": 17,
   "metadata": {
    "ExecuteTime": {
     "end_time": "2018-04-24T06:02:53.768507Z",
     "start_time": "2018-04-24T06:02:53.753118Z"
    }
   },
   "outputs": [
    {
     "data": {
      "text/html": [
       "<div>\n",
       "<style scoped>\n",
       "    .dataframe tbody tr th:only-of-type {\n",
       "        vertical-align: middle;\n",
       "    }\n",
       "\n",
       "    .dataframe tbody tr th {\n",
       "        vertical-align: top;\n",
       "    }\n",
       "\n",
       "    .dataframe thead th {\n",
       "        text-align: right;\n",
       "    }\n",
       "</style>\n",
       "<table border=\"1\" class=\"dataframe\">\n",
       "  <thead>\n",
       "    <tr style=\"text-align: right;\">\n",
       "      <th></th>\n",
       "      <th>ip</th>\n",
       "      <th>app</th>\n",
       "      <th>device</th>\n",
       "      <th>os</th>\n",
       "      <th>channel</th>\n",
       "      <th>click_time</th>\n",
       "      <th>attributed_time</th>\n",
       "      <th>is_attributed</th>\n",
       "    </tr>\n",
       "  </thead>\n",
       "  <tbody>\n",
       "    <tr>\n",
       "      <th>0</th>\n",
       "      <td>83230</td>\n",
       "      <td>3</td>\n",
       "      <td>1</td>\n",
       "      <td>13</td>\n",
       "      <td>379</td>\n",
       "      <td>2017-11-06 14:32:21</td>\n",
       "      <td>NaN</td>\n",
       "      <td>0</td>\n",
       "    </tr>\n",
       "    <tr>\n",
       "      <th>1</th>\n",
       "      <td>17357</td>\n",
       "      <td>3</td>\n",
       "      <td>1</td>\n",
       "      <td>19</td>\n",
       "      <td>379</td>\n",
       "      <td>2017-11-06 14:33:34</td>\n",
       "      <td>NaN</td>\n",
       "      <td>0</td>\n",
       "    </tr>\n",
       "    <tr>\n",
       "      <th>2</th>\n",
       "      <td>35810</td>\n",
       "      <td>3</td>\n",
       "      <td>1</td>\n",
       "      <td>13</td>\n",
       "      <td>379</td>\n",
       "      <td>2017-11-06 14:34:12</td>\n",
       "      <td>NaN</td>\n",
       "      <td>0</td>\n",
       "    </tr>\n",
       "    <tr>\n",
       "      <th>3</th>\n",
       "      <td>45745</td>\n",
       "      <td>14</td>\n",
       "      <td>1</td>\n",
       "      <td>13</td>\n",
       "      <td>478</td>\n",
       "      <td>2017-11-06 14:34:52</td>\n",
       "      <td>NaN</td>\n",
       "      <td>0</td>\n",
       "    </tr>\n",
       "    <tr>\n",
       "      <th>4</th>\n",
       "      <td>161007</td>\n",
       "      <td>3</td>\n",
       "      <td>1</td>\n",
       "      <td>13</td>\n",
       "      <td>379</td>\n",
       "      <td>2017-11-06 14:35:08</td>\n",
       "      <td>NaN</td>\n",
       "      <td>0</td>\n",
       "    </tr>\n",
       "  </tbody>\n",
       "</table>\n",
       "</div>"
      ],
      "text/plain": [
       "       ip  app  device  os  channel           click_time  attributed_time  \\\n",
       "0   83230    3       1  13      379  2017-11-06 14:32:21              NaN   \n",
       "1   17357    3       1  19      379  2017-11-06 14:33:34              NaN   \n",
       "2   35810    3       1  13      379  2017-11-06 14:34:12              NaN   \n",
       "3   45745   14       1  13      478  2017-11-06 14:34:52              NaN   \n",
       "4  161007    3       1  13      379  2017-11-06 14:35:08              NaN   \n",
       "\n",
       "   is_attributed  \n",
       "0              0  \n",
       "1              0  \n",
       "2              0  \n",
       "3              0  \n",
       "4              0  "
      ]
     },
     "execution_count": 17,
     "metadata": {},
     "output_type": "execute_result"
    }
   ],
   "source": [
    "df.head()"
   ]
  },
  {
   "cell_type": "markdown",
   "metadata": {},
   "source": [
    "## Read"
   ]
  },
  {
   "cell_type": "markdown",
   "metadata": {},
   "source": [
    "### Training data"
   ]
  },
  {
   "cell_type": "code",
   "execution_count": 18,
   "metadata": {
    "ExecuteTime": {
     "end_time": "2018-04-24T06:04:04.124385Z",
     "start_time": "2018-04-24T06:03:05.068330Z"
    }
   },
   "outputs": [
    {
     "name": "stdout",
     "output_type": "stream",
     "text": [
      "Processed chunk 0\n",
      "Processed chunk 1\n",
      "Processed chunk 2\n",
      "Processed chunk 3\n",
      "Processed chunk 4\n",
      "Processed chunk 5\n",
      "Processed chunk 6\n",
      "Processed chunk 7\n",
      "Processed chunk 8\n",
      "Processed chunk 9\n"
     ]
    }
   ],
   "source": [
    "# already prepared for chunked learning in case that full training data\n",
    "# set does not fit into memory\n",
    "# fit the model\n",
    "chunksize = 400000\n",
    "chunk_idx = 0 \n",
    "chunk_max = 10\n",
    "for chunk in pd.read_csv(input_file, chunksize=chunksize):\n",
    "    # Extracting new features\n",
    "    chunk['hour'] = pd.to_datetime(chunk.click_time).dt.hour.astype('uint8')\n",
    "    chunk['day'] = pd.to_datetime(chunk.click_time).dt.day.astype('uint8')\n",
    "    train_X = chunk.as_matrix(columns=['ip', 'app', 'device', 'os', 'channel', 'hour', 'day'])\n",
    "    if chunk_idx > 0: # not load in first run\n",
    "        model.fit(train_X, chunk['is_attributed'], xgb_model=model)\n",
    "    else:\n",
    "        model.fit(train_X, chunk['is_attributed'])\n",
    "    print(\"Processed chunk %d\" % chunk_idx)\n",
    "    chunk_idx = chunk_idx + 1\n",
    "    if chunk_idx >= chunk_max:\n",
    "        break"
   ]
  },
  {
   "cell_type": "markdown",
   "metadata": {},
   "source": [
    "### Testing data"
   ]
  },
  {
   "cell_type": "code",
   "execution_count": 19,
   "metadata": {
    "ExecuteTime": {
     "end_time": "2018-04-24T06:04:53.754437Z",
     "start_time": "2018-04-24T06:04:10.231787Z"
    }
   },
   "outputs": [],
   "source": [
    "# read test data set\n",
    "test = pd.read_csv(test_file)\n",
    "test['hour'] = pd.to_datetime(test.click_time).dt.hour.astype('uint8')\n",
    "test['day'] = pd.to_datetime(test.click_time).dt.day.astype('uint8')\n",
    "\n",
    "test_X = test.as_matrix(columns=['ip', 'app', 'device', 'os', 'channel', 'hour', 'day'])\n",
    "#start_time = print_duration (start_time, \"Finished training, start prediction\")   \n",
    "# predict the propabilities for binary classes    "
   ]
  },
  {
   "cell_type": "code",
   "execution_count": 20,
   "metadata": {
    "ExecuteTime": {
     "end_time": "2018-04-24T06:05:01.982499Z",
     "start_time": "2018-04-24T06:05:01.978801Z"
    }
   },
   "outputs": [
    {
     "data": {
      "text/plain": [
       "(18790469, 7)"
      ]
     },
     "execution_count": 20,
     "metadata": {},
     "output_type": "execute_result"
    }
   ],
   "source": [
    "test_X.shape"
   ]
  },
  {
   "cell_type": "code",
   "execution_count": 21,
   "metadata": {
    "ExecuteTime": {
     "end_time": "2018-04-24T06:10:28.614990Z",
     "start_time": "2018-04-24T06:05:03.966261Z"
    }
   },
   "outputs": [],
   "source": [
    "pred = model.predict_proba(test_X)"
   ]
  },
  {
   "cell_type": "markdown",
   "metadata": {},
   "source": [
    "### Submission"
   ]
  },
  {
   "cell_type": "code",
   "execution_count": 24,
   "metadata": {
    "ExecuteTime": {
     "end_time": "2018-04-24T06:13:11.167123Z",
     "start_time": "2018-04-24T06:12:04.435732Z"
    }
   },
   "outputs": [],
   "source": [
    "submission = pd.read_csv(sample_submission_file)\n",
    "submission['is_attributed'] = pred[:,1]\n",
    "submission.to_csv(output_file, index=False)"
   ]
  },
  {
   "cell_type": "code",
   "execution_count": 25,
   "metadata": {
    "ExecuteTime": {
     "end_time": "2018-04-24T06:13:11.176257Z",
     "start_time": "2018-04-24T06:13:11.169008Z"
    }
   },
   "outputs": [
    {
     "data": {
      "text/html": [
       "<div>\n",
       "<style scoped>\n",
       "    .dataframe tbody tr th:only-of-type {\n",
       "        vertical-align: middle;\n",
       "    }\n",
       "\n",
       "    .dataframe tbody tr th {\n",
       "        vertical-align: top;\n",
       "    }\n",
       "\n",
       "    .dataframe thead th {\n",
       "        text-align: right;\n",
       "    }\n",
       "</style>\n",
       "<table border=\"1\" class=\"dataframe\">\n",
       "  <thead>\n",
       "    <tr style=\"text-align: right;\">\n",
       "      <th></th>\n",
       "      <th>click_id</th>\n",
       "      <th>is_attributed</th>\n",
       "    </tr>\n",
       "  </thead>\n",
       "  <tbody>\n",
       "    <tr>\n",
       "      <th>0</th>\n",
       "      <td>0</td>\n",
       "      <td>0.000063</td>\n",
       "    </tr>\n",
       "    <tr>\n",
       "      <th>1</th>\n",
       "      <td>1</td>\n",
       "      <td>0.000114</td>\n",
       "    </tr>\n",
       "    <tr>\n",
       "      <th>2</th>\n",
       "      <td>2</td>\n",
       "      <td>0.000829</td>\n",
       "    </tr>\n",
       "    <tr>\n",
       "      <th>3</th>\n",
       "      <td>3</td>\n",
       "      <td>0.000187</td>\n",
       "    </tr>\n",
       "    <tr>\n",
       "      <th>4</th>\n",
       "      <td>4</td>\n",
       "      <td>0.000177</td>\n",
       "    </tr>\n",
       "  </tbody>\n",
       "</table>\n",
       "</div>"
      ],
      "text/plain": [
       "   click_id  is_attributed\n",
       "0         0       0.000063\n",
       "1         1       0.000114\n",
       "2         2       0.000829\n",
       "3         3       0.000187\n",
       "4         4       0.000177"
      ]
     },
     "execution_count": 25,
     "metadata": {},
     "output_type": "execute_result"
    }
   ],
   "source": [
    "submission.head()"
   ]
  },
  {
   "cell_type": "code",
   "execution_count": null,
   "metadata": {},
   "outputs": [],
   "source": []
  }
 ],
 "metadata": {
  "kernelspec": {
   "display_name": "Python 3",
   "language": "python",
   "name": "python3"
  },
  "language_info": {
   "codemirror_mode": {
    "name": "ipython",
    "version": 3
   },
   "file_extension": ".py",
   "mimetype": "text/x-python",
   "name": "python",
   "nbconvert_exporter": "python",
   "pygments_lexer": "ipython3",
   "version": "3.6.5"
  },
  "toc": {
   "nav_menu": {},
   "number_sections": true,
   "sideBar": true,
   "skip_h1_title": false,
   "title_cell": "Table of Contents",
   "title_sidebar": "Contents",
   "toc_cell": false,
   "toc_position": {},
   "toc_section_display": true,
   "toc_window_display": true
  }
 },
 "nbformat": 4,
 "nbformat_minor": 2
}
